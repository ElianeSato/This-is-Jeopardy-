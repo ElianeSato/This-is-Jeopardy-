{
 "cells": [
  {
   "cell_type": "markdown",
   "metadata": {},
   "source": [
    "# This is Jeopardy!"
   ]
  },
  {
   "cell_type": "markdown",
   "metadata": {},
   "source": [
    "#### Overview"
   ]
  },
  {
   "cell_type": "markdown",
   "metadata": {},
   "source": [
    "This project is slightly different than others you have encountered thus far. Instead of a step-by-step tutorial, this project contains a series of open-ended requirements which describe the project you'll be building. There are many possible ways to correctly fulfill all of these requirements, and you should expect to use the internet, Codecademy, and/or other resources when you encounter a problem that you cannot easily solve."
   ]
  },
  {
   "cell_type": "markdown",
   "metadata": {},
   "source": [
    "#### Project Goals"
   ]
  },
  {
   "cell_type": "markdown",
   "metadata": {},
   "source": [
    "You will work to write several functions that investigate a dataset of _Jeopardy!_ questions and answers. Filter the dataset for topics that you're interested in, compute the average difficulty of those questions, and train to become the next Jeopardy champion!"
   ]
  },
  {
   "cell_type": "markdown",
   "metadata": {},
   "source": [
    "## Prerequisites"
   ]
  },
  {
   "cell_type": "markdown",
   "metadata": {},
   "source": [
    "In order to complete this project, you should have completed the Pandas lessons in the <a href=\"https://www.codecademy.com/learn/paths/analyze-data-with-python\">Analyze Data with Python Skill Path</a>. You can also find those lessons in the <a href=\"https://www.codecademy.com/learn/data-processing-pandas\">Data Analysis with Pandas course</a> or the <a href=\"https://www.codecademy.com/learn/paths/data-science/\">Data Scientist Career Path</a>.\n",
    "\n",
    "Finally, the <a href=\"https://www.codecademy.com/learn/practical-data-cleaning\">Practical Data Cleaning</a> course may also be helpful."
   ]
  },
  {
   "cell_type": "markdown",
   "metadata": {},
   "source": [
    "## Project Requirements"
   ]
  },
  {
   "cell_type": "markdown",
   "metadata": {},
   "source": [
    "1. We've provided a csv file containing data about the game show _Jeopardy!_ in a file named `jeopardy.csv`. Load the data into a DataFrame and investigate its contents. Try to print out specific columns.\n",
    "\n",
    "   Note that in order to make this project as \"real-world\" as possible, we haven't modified the data at all - we're giving it to you exactly how we found it. As a result, this data isn't as \"clean\" as the datasets you normally find on Codecademy. More specifically, there's something odd about the column names. After you figure out the problem with the column names, you may want to rename them to make your life easier for the rest of the project.\n",
    "   \n",
    "   In order to display the full contents of a column, we've added this line of code for you:\n",
    "   \n",
    "   ```py\n",
    "   pd.set_option('display.max_colwidth', None)\n",
    "   ```"
   ]
  },
  {
   "cell_type": "code",
   "execution_count": 1,
   "metadata": {},
   "outputs": [],
   "source": [
    "import pandas as pd\n",
    "pd.set_option('display.max_colwidth', None)\n",
    "import random"
   ]
  },
  {
   "cell_type": "code",
   "execution_count": 2,
   "metadata": {},
   "outputs": [
    {
     "name": "stdout",
     "output_type": "stream",
     "text": [
      "Index(['Show Number', ' Air Date', ' Round', ' Category', ' Value',\n",
      "       ' Question', ' Answer'],\n",
      "      dtype='object')\n",
      "Index(['Show Number', 'Air Date', 'Round', 'Category', 'Value', 'Question',\n",
      "       'Answer'],\n",
      "      dtype='object')\n",
      "   Show Number    Air Date      Round                         Category Value  \\\n",
      "0         4680  2004-12-31  Jeopardy!                          HISTORY  $200   \n",
      "1         4680  2004-12-31  Jeopardy!  ESPN's TOP 10 ALL-TIME ATHLETES  $200   \n",
      "2         4680  2004-12-31  Jeopardy!      EVERYBODY TALKS ABOUT IT...  $200   \n",
      "3         4680  2004-12-31  Jeopardy!                 THE COMPANY LINE  $200   \n",
      "4         4680  2004-12-31  Jeopardy!              EPITAPHS & TRIBUTES  $200   \n",
      "\n",
      "                                                                                                      Question  \\\n",
      "0             For the last 8 years of his life, Galileo was under house arrest for espousing this man's theory   \n",
      "1  No. 2: 1912 Olympian; football star at Carlisle Indian School; 6 MLB seasons with the Reds, Giants & Braves   \n",
      "2                     The city of Yuma in this state has a record average of 4,055 hours of sunshine each year   \n",
      "3                         In 1963, live on \"The Art Linkletter Show\", this company served its billionth burger   \n",
      "4     Signer of the Dec. of Indep., framer of the Constitution of Mass., second President of the United States   \n",
      "\n",
      "       Answer  \n",
      "0  Copernicus  \n",
      "1  Jim Thorpe  \n",
      "2     Arizona  \n",
      "3  McDonald's  \n",
      "4  John Adams  \n"
     ]
    }
   ],
   "source": [
    "df = pd.read_csv('jeopardy.csv')\n",
    "print(df.columns)\n",
    "df.rename(columns={'Show Number': 'Show Number', ' Air Date': 'Air Date', ' Round': 'Round', ' Category': 'Category', ' Value': 'Value',\n",
    "       ' Question': 'Question', ' Answer': 'Answer'}, inplace=True)\n",
    "print(df.columns)\n",
    "print(df.head())"
   ]
  },
  {
   "cell_type": "markdown",
   "metadata": {},
   "source": [
    "2. Write a function that filters the dataset for questions that contains all of the words in a list of words. For example, when the list `[\"King\", \"England\"]` was passed to our function, the function returned a DataFrame of 49 rows. Every row had the strings `\"King\"` and `\"England\"` somewhere in its `\" Question\"`.\n",
    "\n",
    "   Test your function by printing out the column containing the question of each row of the dataset."
   ]
  },
  {
   "cell_type": "code",
   "execution_count": 17,
   "metadata": {},
   "outputs": [
    {
     "name": "stdout",
     "output_type": "stream",
     "text": [
      "6337                           In retaliation for Viking raids, this \"Unready\" king of England attacks Norse areas of the Isle of Man\n",
      "9191                                         This king of England beat the odds to trounce the French in the 1415 Battle of Agincourt\n",
      "13454                                                            It's the number that followed the last king of England named William\n",
      "18076                                 In 1199 this crusader king of England was mortally wounded while besieging the castle of Chalus\n",
      "19168                                                       He was the only king of England to have \"The Great\" tacked on to his name\n",
      "21511                                                    this man and his son ruled England following the execution of King Charles I\n",
      "23810                            William the Conqueror was crowned King of England in Westminster Abbey on Christmas Day in this year\n",
      "23979                                  This \"unready\" king of England lost most of his country to Sven Forkbeard, the king of Denmark\n",
      "26780                                                     This king of England was killed by a Norman arrow at the Battle of Hastings\n",
      "33174                                                                          This king of England was a leader of the Third Crusade\n",
      "49994                                          Elizabeth I's half-brother, he reigned before her as King of England from 1547 to 1553\n",
      "57479                                                               He was the last of the 3 men who were king of England during 1066\n",
      "58949                                           He became King of England in 1399 after forcing his cousin Richard II from the throne\n",
      "66520                                  This king called \"the Great\" beat the Danes in 886 to keep all of England from being conquered\n",
      "72582                                     This current king of Jordan received part of his education in England at Harrow & Sandhurst\n",
      "77195                             He became King of England on June 26, 1483; just over 2 years later he was killed at Bosworth Field\n",
      "78510                             Henry II, who succeeded Stephen as king of England in 1154, was the first monarch from this \"house\"\n",
      "82525                                                    The \"rump\" parliament wanted him to be the last king England would ever name\n",
      "86412                                            This country's King Olaf V was born in England & was the grandson of King Edward VII\n",
      "89710                               This 11th Century King of England also ruled Denmark & Norway during the latter part of his reign\n",
      "90084                                                                      He was \"the Confessor\" king of England in the 11th century\n",
      "94425                                                                           From 1714 to 1830 every king of England had this name\n",
      "95019                               Regent for his predecessor from 1811 to 1820, he was king of England on his own from 1820 to 1830\n",
      "103704                                                                        This king of England was the grandfather of Elizabeth I\n",
      "115727                                                           In 1191, Berengaria married this king of England in Limassol, Cyprus\n",
      "118809                                                               In French this King of England is called Guillaume le Conquerant\n",
      "127484                                   Ethelred the Unready managed to lose most of England to King Sweyn Forkbeard of this country\n",
      "127758                                                     This state was named for the King of England who reigned from 1727 to 1760\n",
      "137818                                                           The last King William to rule England had this number after his name\n",
      "140080                                         In 1191 this \"Lion-Hearted\" king of England captured Cyprus & Acre during the Crusades\n",
      "140941              Dutch-born Protestant Prince William of Orange became king of England after this Catholic king was deposed & fled\n",
      "148910                     On his way back from failing to take Jerusalem in 1192, this king of England was captured & later ransomed\n",
      "150622                                                      The only king of England named Stephen was the grandson of this conqueror\n",
      "150880                                                          During Stanley Baldwin's term as P.M., this King of England abdicated\n",
      "151335                                   2000 saw a fight in England over running the lottery, with this Virgin king at the forefeont\n",
      "151746                                             Colchester, England was named for this legendary Celtic king immortalized in rhyme\n",
      "158120                  This Dutch-born English king introduced gin to England as the \"pouring spirit\" in the palace at Hampton Court\n",
      "159374                                                        A translation of the Bible is named for this king of England & Scotland\n",
      "159378                This king divorced the Church of England from the Catholic Church so that he could divorce the first of 6 wives\n",
      "167337                                                                 The last Anglo-Saxon king of England was killed in this battle\n",
      "174055                                                               This conqueror was crowned King of England on Christmas Day 1066\n",
      "175259                                                                             His short reign as King of England fell in in 1936\n",
      "178590                                       He succeeded Henry II as king of England in 1189 & was himself succeeded by John in 1199\n",
      "178921                                                                   Richard was crowned king of England at this place of worship\n",
      "186239              He was King of England from 1189 to 1199 but spent only 6 months there; the rest of the time, he was off fighting\n",
      "190102                                                  The man who became king of England in 1066 was succeeded by this king in 1087\n",
      "191531    On Jan. 28, 1547, after a physical & mental decline, this king of England was (surprisingly) survived by his wife Catherine\n",
      "195099                                In 1714 the Prince of Hanover, who spoke little English, became king of England under this name\n",
      "200369                8th C. King Offa built a 170-mile north-south dike that still partly marks the border of England & this country\n",
      "208742                                           Dutch-born king who ruled England jointly with Mary II & is a tasty New Zealand fish\n",
      "216021                               His nickname was \"Bertie\", but he used this name & number when he became king of England in 1901\n",
      "Name: Question, dtype: object\n",
      "51\n"
     ]
    }
   ],
   "source": [
    "def contain_words(words, dataset):\n",
    "    my_lambda = lambda question: all(' ' + word.lower() + ' ' in question.lower() for word in words)\n",
    "    result = dataset.loc[dataset['Question'].apply(my_lambda)]\n",
    "    return result\n",
    "        \n",
    "result = contain_words(['King','England'], df)\n",
    "print(result['Question'])\n",
    "print(len(result))\n"
   ]
  },
  {
   "cell_type": "code",
   "execution_count": null,
   "metadata": {},
   "outputs": [],
   "source": []
  },
  {
   "cell_type": "markdown",
   "metadata": {},
   "source": [
    "3. Test your original function with a few different sets of words to try to find some ways your function breaks. Edit your function so it is more robust.\n",
    "\n",
    "   For example, think about capitalization. We probably want to find questions that contain the word `\"King\"` or `\"king\"`.\n",
    "   \n",
    "   You may also want to check to make sure you don't find rows that contain substrings of your given words. For example, our function found a question that didn't contain the word `\"king\"`, however it did contain the word `\"viking\"` &mdash; it found the `\"king\"` inside `\"viking\"`. Note that this also comes with some drawbacks &mdash; you would no longer find questions that contained words like `\"England's\"`."
   ]
  },
  {
   "cell_type": "code",
   "execution_count": 4,
   "metadata": {},
   "outputs": [
    {
     "name": "stdout",
     "output_type": "stream",
     "text": [
      "        Show Number    Air Date             Round              Category  \\\n",
      "167            3751  2000-12-18  Double Jeopardy!           ANDY WARHOL   \n",
      "1905           3447  1999-09-07  Double Jeopardy!     ARE WE THERE YET?   \n",
      "2104           5981  2010-09-20         Jeopardy!           GOOD CAUSES   \n",
      "2460           5145  2007-01-12         Jeopardy!      THE ENGLISH BEAT   \n",
      "2463           5145  2007-01-12         Jeopardy!      THE REPLACEMENTS   \n",
      "...             ...         ...               ...                   ...   \n",
      "213775         4602  2004-09-14         Jeopardy!         NEW YORK CITY   \n",
      "213786         4602  2004-09-14         Jeopardy!  THE TALES OF HOFFMAN   \n",
      "215652         4250  2003-02-07  Double Jeopardy!     MIND MISS MANNERS   \n",
      "215821         5069  2006-09-28  Double Jeopardy!                PRAGUE   \n",
      "215977         1881  1992-11-09         Jeopardy!        \"T\" ON THE MAP   \n",
      "\n",
      "         Value  \\\n",
      "167     $2,000   \n",
      "1905      $500   \n",
      "2104    $2,000   \n",
      "2460      $600   \n",
      "2463      $800   \n",
      "...        ...   \n",
      "213775  $1,400   \n",
      "213786    $800   \n",
      "215652   $1200   \n",
      "215821    $400   \n",
      "215977    $200   \n",
      "\n",
      "                                                                                                                                                                                                                                                                                                                                                                        Question  \\\n",
      "167                                                                                                                                                                                                                                                                    Andy's loft on East 47th Street got this nickname from its former use & Andy's mass-production techniques   \n",
      "1905                                                                                                                                                                                                                                                                                  The Congress Street Bridge is where Bostonians recreate this historic event every December   \n",
      "2104                                                                                                                                                                                                                                                               A \"Mission\" to help the homeless is named for this Lower Manhattan street known as a skid row since the 1800s   \n",
      "2460                                                                                                                                                                                                                                                                                                       In 1964 a Shakespeare center was opened on Henley Street in this city   \n",
      "2463                                                                                                                                                                                                                                                             George Williams founded the association familiarly known as this to replace life on the street with Bible study   \n",
      "...                                                                                                                                                                                                                                                                                                                                                                          ...   \n",
      "213775                                                                                                                                                                                                                                                                                             The heart of Little Italy is this street also found in a Dr. Seuss book title   \n",
      "213786                                                                                                                                                                                                                                                            \"Everybody's Talkin'\" served as the theme to this 1969 film in which Hoffman played street hustler Ratso Rizzo   \n",
      "215652                                                                                                                                                                                                                                                     When 2 people are walking down the street sharing an umbrella, this person should have the sense to hold the umbrella   \n",
      "215821  (<a href=\"http://www.j-archive.com/media/2006-09-28_DJ_16.jpg\" target=\"_blank\">Jimmy of the Clue Crew hangs out on a street in Prage, Czech Republic.</a>)  Legend says the <a href=\"http://www.j-archive.com/media/2006-09-28_DJ_16a.jpg\" target=\"_blank\">upper part</a> of Prague's Old-New Synagogue holds the remains of this clay giant created to protect the Jews   \n",
      "215977                                                                                                                                                                                                                                                                                                        Bay Street is the heart of this Canadian city's financial district   \n",
      "\n",
      "                                              Answer  \n",
      "167                                      The Factory  \n",
      "1905                                Boston Tea Party  \n",
      "2104                                          Bowery  \n",
      "2460                             Stratford-upon-Avon  \n",
      "2463    the Young Men's Christian Association (YMCA)  \n",
      "...                                              ...  \n",
      "213775                               Mulberry Street  \n",
      "213786                               Midnight Cowboy  \n",
      "215652                             the taller person  \n",
      "215821                                     the golem  \n",
      "215977                                       Toronto  \n",
      "\n",
      "[439 rows x 7 columns]\n"
     ]
    }
   ],
   "source": [
    "result = contain_words(['street'], df)\n",
    "print(result)"
   ]
  },
  {
   "cell_type": "markdown",
   "metadata": {},
   "source": [
    "4. We may want to eventually compute aggregate statistics, like `.mean()` on the `\" Value\"` column. But right now, the values in that column are strings. Convert the`\" Value\"` column to floats. If you'd like to, you can create a new column with float values.\n",
    "\n",
    "   Now that you can filter the dataset of question, use your new column that contains the float values of each question to find the \"difficulty\" of certain topics. For example, what is the average value of questions that contain the word `\"King\"`?\n",
    "   \n",
    "   Make sure to use the dataset that contains the float values as the dataset you use in your filtering function."
   ]
  },
  {
   "cell_type": "code",
   "execution_count": 5,
   "metadata": {},
   "outputs": [
    {
     "name": "stdout",
     "output_type": "stream",
     "text": [
      "Overall mean:  739.7422485351562\n",
      "Difficulty of questions that contain the word ['person']: 694.1818237304688\n"
     ]
    },
    {
     "data": {
      "text/plain": [
       "694.1818237304688"
      ]
     },
     "execution_count": 5,
     "metadata": {},
     "output_type": "execute_result"
    }
   ],
   "source": [
    "df['Points'] = df['Value'].replace('[\\$,]','', regex=True)\n",
    "df['Points'] = df['Points'].replace('None', '0', regex=False)\n",
    "df['Points'] = pd.to_numeric(df.Points, downcast='float')\n",
    "\n",
    "print('Overall mean: ', df.Points.mean())\n",
    "def check_difficulty(words, dataset):\n",
    "    filtered = contain_words(words, dataset)\n",
    "    result2 = filtered.Points.mean()\n",
    "    print(f'Difficulty of questions that contain the word {words}: {result2}')\n",
    "    return result2\n",
    "\n",
    "check_difficulty(['person'], df)"
   ]
  },
  {
   "cell_type": "markdown",
   "metadata": {},
   "source": [
    "5. Write a function that returns the count of unique answers to all of the questions in a dataset. For example, after filtering the entire dataset to only questions containing the word `\"King\"`, we could then find all of the unique answers to those questions. The answer \"Henry VIII\" appeared 55 times and was the most common answer."
   ]
  },
  {
   "cell_type": "code",
   "execution_count": 6,
   "metadata": {},
   "outputs": [
    {
     "name": "stdout",
     "output_type": "stream",
     "text": [
      "Henry VIII                           31\n",
      "Richard III                          20\n",
      "Sweden                               18\n",
      "Norway                               18\n",
      "Solomon                              17\n",
      "                                     ..\n",
      "Bad, Bad Leroy Brown                  1\n",
      "Elephants                             1\n",
      "Deborah Kerr                          1\n",
      "Ruritania                             1\n",
      "a pyramid (the pyramids accepted)     1\n",
      "Name: Answer, Length: 1040, dtype: int64\n"
     ]
    }
   ],
   "source": [
    "def unique_answers(words, dataset):\n",
    "    filtered = contain_words(words, dataset)\n",
    "    result3 = filtered.Answer.value_counts()\n",
    "    return result3\n",
    "    \n",
    "print(unique_answers(['King'], df))"
   ]
  },
  {
   "cell_type": "code",
   "execution_count": 7,
   "metadata": {},
   "outputs": [
    {
     "name": "stdout",
     "output_type": "stream",
     "text": [
      "King Henry VIII\n",
      "10    31\n",
      "15     1\n",
      "Name: Answer, dtype: int64\n"
     ]
    }
   ],
   "source": [
    "print(df.Answer.iloc[105388])\n",
    "def contain_words_in_answer(words, dataset):\n",
    "    new_df = contain_words(['king'], dataset)\n",
    "    my_lambda2 = lambda answer: all(word.lower() in str(answer).lower() for word in words)\n",
    "    filtered = new_df.loc[new_df['Answer'].apply(my_lambda2)]\n",
    "    lenght = filtered.Answer.apply(lambda answer: len(answer))\n",
    "    return lenght.value_counts()\n",
    "\n",
    "print(contain_words_in_answer([\"Henry VIII\"], df))"
   ]
  },
  {
   "cell_type": "markdown",
   "metadata": {},
   "source": [
    "6. Explore from here! This is an incredibly rich dataset, and there are so many interesting things to discover. There are a few columns that we haven't even started looking at yet. Here are some ideas on ways to continue working with this data:\n",
    "\n",
    " * Investigate the ways in which questions change over time by filtering by the date. How many questions from the 90s use the word `\"Computer\"` compared to questions from the 2000s?\n",
    " * Is there a connection between the round and the category? Are you more likely to find certain categories, like `\"Literature\"` in Single Jeopardy or Double Jeopardy?\n",
    " * Build a system to quiz yourself. Grab random questions, and use the <a href=\"https://docs.python.org/3/library/functions.html#input\">input</a> function to get a response from the user. Check to see if that response was right or wrong."
   ]
  },
  {
   "cell_type": "code",
   "execution_count": 8,
   "metadata": {},
   "outputs": [
    {
     "name": "stdout",
     "output_type": "stream",
     "text": [
      "Index(['Show Number', 'Air Date', 'Round', 'Category', 'Value', 'Question',\n",
      "       'Answer', 'Points'],\n",
      "      dtype='object')\n",
      "0    2004-12-31\n",
      "1    2004-12-31\n",
      "2    2004-12-31\n",
      "3    2004-12-31\n",
      "4    2004-12-31\n",
      "Name: Air Date, dtype: object\n"
     ]
    }
   ],
   "source": [
    "print(df.columns)\n",
    "print(df['Air Date'].head())\n",
    "df['Year'] = df['Air Date'].str[:4]\n",
    "df.Year = pd.to_numeric(df.Year)"
   ]
  },
  {
   "cell_type": "code",
   "execution_count": 9,
   "metadata": {},
   "outputs": [
    {
     "name": "stdout",
     "output_type": "stream",
     "text": [
      "Questions 1990s: 146; Questions 2000s: 273\n"
     ]
    }
   ],
   "source": [
    "# Questions in the 1990s and in the 2000s by word\n",
    "def contain_words_by_year(words, dataset):\n",
    "    filtered = contain_words(words, dataset)\n",
    "    questions_1990 = filtered[filtered.Year <= 2000]\n",
    "    questions_1990 = len(questions_1990[questions_1990.Year > 1990])\n",
    "    questions_2000 = len(filtered[filtered.Year > 2000])\n",
    "    return f'Questions 1990s: {questions_1990}; Questions 2000s: {questions_2000}'\n",
    "    \n",
    "print(contain_words_by_year(['street'], df))"
   ]
  },
  {
   "cell_type": "code",
   "execution_count": 38,
   "metadata": {},
   "outputs": [
    {
     "name": "stdout",
     "output_type": "stream",
     "text": [
      "                  Round                 Category  Question\n",
      "0      Double Jeopardy!                  \"-ARES\"         5\n",
      "1      Double Jeopardy!            \"...OD\" WORDS         5\n",
      "2      Double Jeopardy!            \"1\", \"2\", \"3\"         5\n",
      "3      Double Jeopardy!           \"20\" QUESTIONS         5\n",
      "4      Double Jeopardy!                  \"A\" + 4         5\n",
      "...                 ...                      ...       ...\n",
      "31681         Jeopardy!                  “NORTH”         5\n",
      "31682         Jeopardy!                “STREETS”         5\n",
      "31683        Tiebreaker             CHILD'S PLAY         1\n",
      "31684        Tiebreaker      LITERARY CHARACTERS         1\n",
      "31685        Tiebreaker  THE AMERICAN REVOLUTION         1\n",
      "\n",
      "[31686 rows x 3 columns]\n",
      "*** Single ***\n",
      "                          Category  Question\n",
      "0       A JIM CARREY FILM FESTIVAL         5\n",
      "1                              \"!\"         5\n",
      "2              \"-ICIAN\" EXPEDITION         5\n",
      "3                        \"A\" & \"E\"         5\n",
      "4                        \"A\" & \"M\"         5\n",
      "...                            ...       ...\n",
      "15150               “A” IN SCIENCE         5\n",
      "15151                         “CC”         5\n",
      "15152                    “G” WHIZ!         5\n",
      "15153                      “NORTH”         5\n",
      "15154                    “STREETS”         5\n",
      "\n",
      "[15155 rows x 2 columns]\n",
      "*** Double ***\n",
      "                     Category  Question\n",
      "0                     \"-ARES\"         5\n",
      "1               \"...OD\" WORDS         5\n",
      "2               \"1\", \"2\", \"3\"         5\n",
      "3              \"20\" QUESTIONS         5\n",
      "4                     \"A\" + 4         5\n",
      "...                       ...       ...\n",
      "14571  “HARD” & “EASY” MOVIES         5\n",
      "14572              “R” MOVIES         5\n",
      "14573                “SAINTS”         4\n",
      "14574                 “SOUTH”         5\n",
      "14575           “WH”AT IS IT?         5\n",
      "\n",
      "[14576 rows x 2 columns]\n",
      "*** Tiebreaker ***\n",
      "                  Category  Question\n",
      "0             CHILD'S PLAY         1\n",
      "1      LITERARY CHARACTERS         1\n",
      "2  THE AMERICAN REVOLUTION         1\n"
     ]
    }
   ],
   "source": [
    "# Category vs Round\n",
    "category_round = df.groupby(['Round', 'Category'])['Question'].count().reset_index()\n",
    "print(category_round)\n",
    "df_single = df[df['Round'] == 'Jeopardy!']\n",
    "category_single = df_single.groupby('Category')['Question'].count().reset_index()\n",
    "print('*** Single ***')\n",
    "print(category_single)\n",
    "df_double = df[df['Round'] == 'Double Jeopardy!']\n",
    "category_double = df_double.groupby('Category')['Question'].count().reset_index()\n",
    "print('*** Double ***')\n",
    "print(category_double)\n",
    "df_tiebreaker = df[df['Round'] == 'Tiebreaker']\n",
    "category_tiebreaker = df_tiebreaker.groupby('Category')['Question'].count().reset_index()\n",
    "print('*** Tiebreaker ***')\n",
    "print(category_tiebreaker)"
   ]
  },
  {
   "cell_type": "code",
   "execution_count": 10,
   "metadata": {},
   "outputs": [
    {
     "name": "stdout",
     "output_type": "stream",
     "text": [
      "                  Round                 Category  Question\n",
      "0      Double Jeopardy!                  \"-ARES\"         5\n",
      "1      Double Jeopardy!            \"...OD\" WORDS         5\n",
      "2      Double Jeopardy!            \"1\", \"2\", \"3\"         5\n",
      "3      Double Jeopardy!           \"20\" QUESTIONS         5\n",
      "4      Double Jeopardy!                  \"A\" + 4         5\n",
      "...                 ...                      ...       ...\n",
      "31681         Jeopardy!                  “NORTH”         5\n",
      "31682         Jeopardy!                “STREETS”         5\n",
      "31683        Tiebreaker             CHILD'S PLAY         1\n",
      "31684        Tiebreaker      LITERARY CHARACTERS         1\n",
      "31685        Tiebreaker  THE AMERICAN REVOLUTION         1\n",
      "\n",
      "[31686 rows x 3 columns]\n"
     ]
    }
   ],
   "source": [
    "# Category vs Round (refactoring)\n",
    "def category_round(dataset):\n",
    "    rounds = dataset['Round'].unique()\n",
    "    my_lambda_6_2 = lambda category: all(category in category for round in rounds)\n",
    "    filtered = dataset.loc[dataset['Category'].apply(my_lambda_6_2)]\n",
    "    result = filtered.groupby(['Round', 'Category'])['Question'].count().reset_index()\n",
    "    return result\n",
    "    \n",
    "print(category_round(df))\n"
   ]
  },
  {
   "cell_type": "code",
   "execution_count": 15,
   "metadata": {},
   "outputs": [
    {
     "name": "stdout",
     "output_type": "stream",
     "text": [
      "This South American liberator spent time as an exile in Haiti\n",
      "Your response: Ernesto Che Guevara\n",
      "Your response: Ernesto Che Guevara\n",
      "Your response is ...\n",
      "... Wrong :(\n",
      "The answer is Simon Bolivar\n",
      "An echoing rock in the Rhine River is named for this legendary siren who lured fishermen to destruction\n",
      "Your response: Sohento\n",
      "Your response: Sohento\n",
      "Your response is ...\n",
      "... Wrong :(\n",
      "The answer is Lorelei\n",
      "In 1950 this former Army chief of staff & secretary of state became secretary of defense\n",
      "Your response: m\n",
      "Your response: m\n",
      "Your response is ...\n",
      "... Wrong :(\n",
      "The answer is George Marshall\n",
      "Published in 1985, \"The Tenth Man\" was a long-lost novella written by this \"Third Man\" author back in 1944\n",
      "Your response: o\n",
      "Your response: o\n",
      "Your response is ...\n",
      "... Wrong :(\n",
      "The answer is Graham Greene\n",
      "The last chapter of this Charlotte Bronte novel begins with the words \"Reader, I married him\"\n",
      "Your response: p\n",
      "Your response: p\n",
      "Your response is ...\n",
      "... Wrong :(\n",
      "The answer is Jane Eyre\n",
      "Thanks for playing!\n",
      "Your score: 0\n"
     ]
    }
   ],
   "source": [
    "# Build a system to quiz yourself. Grab random questions, and use the input function to get a response \n",
    "# from the user. \n",
    "# Check to see if that response was right or wrong.\n",
    "\n",
    "def quiz(dataset):\n",
    "    number = random.randint(0,216930)\n",
    "    question = dataset.Question.iloc[number]\n",
    "    print(question)\n",
    "    answer = input(\"Your response: \")\n",
    "    print(\"Your response:\", answer)\n",
    "    print(\"Your response is ...\")\n",
    "    if answer == dataset.Answer.iloc[number]:\n",
    "        point = dataset.Points.iloc(number)\n",
    "        print(\"... Right!!!\")\n",
    "    else:\n",
    "        point = 0\n",
    "        print(\"... Wrong :(\")\n",
    "        print(\"The answer is\", dataset.Answer.iloc[number])\n",
    "    return point\n",
    "\n",
    "def game(dataset):\n",
    "    score = 0\n",
    "    for n in range(5):\n",
    "        score += quiz(df)\n",
    "    print(\"Thanks for playing!\")\n",
    "    print(\"Your score:\", score)\n",
    "\n",
    "game(df)"
   ]
  },
  {
   "cell_type": "markdown",
   "metadata": {},
   "source": [
    "## Solution"
   ]
  },
  {
   "cell_type": "code",
   "execution_count": null,
   "metadata": {},
   "outputs": [],
   "source": []
  },
  {
   "cell_type": "markdown",
   "metadata": {},
   "source": [
    "7. Compare your program to our <a href=\"https://content.codecademy.com/PRO/independent-practice-projects/jeopardy/jeopardy_solution.zip\">sample solution code</a> - remember, that your program might look different from ours (and probably will) and that's okay!"
   ]
  },
  {
   "cell_type": "markdown",
   "metadata": {},
   "source": [
    "8. Great work! Visit <a href=\"https://discuss.codecademy.com/t/this-is-jeopardy-challenge-project-python-pandas/462365\">our forums</a> to compare your project to our sample solution code. You can also learn how to host your own solution on GitHub so you can share it with other learners! Your solution might look different from ours, and that's okay! There are multiple ways to solve these projects, and you'll learn more by seeing others' code."
   ]
  },
  {
   "cell_type": "code",
   "execution_count": null,
   "metadata": {},
   "outputs": [],
   "source": []
  }
 ],
 "metadata": {
  "kernelspec": {
   "display_name": "Python 3 (ipykernel)",
   "language": "python",
   "name": "python3"
  },
  "language_info": {
   "codemirror_mode": {
    "name": "ipython",
    "version": 3
   },
   "file_extension": ".py",
   "mimetype": "text/x-python",
   "name": "python",
   "nbconvert_exporter": "python",
   "pygments_lexer": "ipython3",
   "version": "3.9.13"
  }
 },
 "nbformat": 4,
 "nbformat_minor": 2
}
